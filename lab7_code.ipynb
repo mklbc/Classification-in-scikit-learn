{
  "nbformat": 4,
  "nbformat_minor": 0,
  "metadata": {
    "colab": {
      "provenance": []
    },
    "kernelspec": {
      "name": "python3",
      "display_name": "Python 3"
    },
    "language_info": {
      "name": "python"
    }
  },
  "cells": [
    {
      "cell_type": "code",
      "source": [
        "import pandas as pd\n",
        "from sklearn.model_selection import train_test_split\n",
        "from sklearn.linear_model import LogisticRegression\n",
        "from sklearn.metrics import accuracy_score, classification_report, confusion_matrix\n",
        "\n",
        "# Veri kümesini yükle\n",
        "df = pd.read_csv('employee.csv')\n",
        "\n",
        "# Kategorik sütunları sayısala dönüştür\n",
        "df = pd.get_dummies(df, columns=['department', 'salary'], drop_first=True)\n",
        "\n",
        "# Bağımsız değişkenleri ve hedef değişkeni seç\n",
        "X = df[['satisfaction_level', 'last_evaluation', 'number_project', 'average_montly_hours', 'time_spend_company', 'Work_accident',\n",
        "        'promotion_last_5years', 'department_RandD', 'department_accounting', 'department_hr', 'department_management', 'department_marketing',\n",
        "        'department_product_mng', 'department_sales', 'department_support', 'department_technical', 'salary_low', 'salary_medium']]\n",
        "y = df['left']\n",
        "\n",
        "# Veriyi eğitim ve test setlerine böl\n",
        "X_train, X_test, y_train, y_test = train_test_split(X, y, test_size=0.2, random_state=42)\n",
        "\n",
        "# Lojistik Regresyon modelini başlat ve max_iter parametresini artırarak modeli eğit\n",
        "model = LogisticRegression(max_iter=1000)  # veya daha büyük bir değer belirleyebilirsiniz\n",
        "\n",
        "# Modeli eğit\n",
        "model.fit(X_train, y_train)\n",
        "\n",
        "\n",
        "# Test setinde tahminler yap\n",
        "y_pred = model.predict(X_test)\n",
        "\n",
        "# Modeli değerlendir\n",
        "accuracy = accuracy_score(y_test, y_pred)\n",
        "conf_matrix = confusion_matrix(y_test, y_pred)\n",
        "classification_rep = classification_report(y_test, y_pred)\n",
        "\n",
        "# Değerlendirme metriklerini yazdır\n",
        "print(f'Accuracy: {accuracy}')\n",
        "print('Confusion Matrix:')\n",
        "print(conf_matrix)\n",
        "print('Classification Report:')\n",
        "print(classification_rep)\n"
      ],
      "metadata": {
        "colab": {
          "base_uri": "https://localhost:8080/"
        },
        "id": "slMLX-okIN7o",
        "outputId": "7ebd8891-e1ec-49b9-c0b9-12f2cb1f5edf"
      },
      "execution_count": 69,
      "outputs": [
        {
          "output_type": "stream",
          "name": "stdout",
          "text": [
            "Accuracy: 0.7833333333333333\n",
            "Confusion Matrix:\n",
            "[[2119  175]\n",
            " [ 475  231]]\n",
            "Classification Report:\n",
            "              precision    recall  f1-score   support\n",
            "\n",
            "           0       0.82      0.92      0.87      2294\n",
            "           1       0.57      0.33      0.42       706\n",
            "\n",
            "    accuracy                           0.78      3000\n",
            "   macro avg       0.69      0.63      0.64      3000\n",
            "weighted avg       0.76      0.78      0.76      3000\n",
            "\n"
          ]
        }
      ]
    }
  ]
}